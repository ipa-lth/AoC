{
 "cells": [
  {
   "cell_type": "code",
   "execution_count": 78,
   "metadata": {},
   "outputs": [
    {
     "name": "stdout",
     "output_type": "stream",
     "text": [
      "Valid PW: 550\n",
      "All: 1000\n"
     ]
    }
   ],
   "source": [
    "import re\n",
    "\n",
    "file1 = open('puzzle_02.txt', 'r') \n",
    "Lines = file1.readlines() \n",
    "  \n",
    "valid = 0\n",
    "for i, line in enumerate(Lines, 1): \n",
    "    m = re.search('(.*) (.): (.*)', line)\n",
    "    rule, letter, pw = m.group(1), m.group(2), m.group(3)\n",
    "    #print(\"'{}' -> '{}', '{}', '{}'\".format(line.strip(), rule, letter, pw))\n",
    "        \n",
    "    mini, maxi = decode_rule(rule)\n",
    "    #print mini, maxi\n",
    "\n",
    "    #print element.count(letter)\n",
    "    if pw.count(letter) < mini or pw.count(letter) > maxi:\n",
    "        pass\n",
    "        #print(element, rule, letter)\n",
    "        #print(\"INVALID:\\n{}: {} is counted {}x, min:{}, max:{}\".format(pw, letter, pw.count(letter), mini, maxi))\n",
    "    else:\n",
    "        valid = valid + 1\n",
    "        #print(\"VALID\\n{}: {} is counted {}x, min:{}, max:{}\".format(pw, letter, pw.count(letter), mini, maxi))\n",
    "\n",
    "print(\"Valid PW: {}\".format(valid))\n",
    "print(\"All: {}\".format(i))"
   ]
  },
  {
   "cell_type": "code",
   "execution_count": 109,
   "metadata": {},
   "outputs": [
    {
     "name": "stdout",
     "output_type": "stream",
     "text": [
      "Valid PW: 634\n",
      "All: 1000\n"
     ]
    }
   ],
   "source": [
    "import re\n",
    "from operator import xor\n",
    "\n",
    "file1 = open('puzzle_02.txt', 'r') \n",
    "Lines = file1.readlines() \n",
    "  \n",
    "valid = 0\n",
    "for i, line in enumerate(Lines, 1): \n",
    "    m = re.search('(.*) (.): (.*)', line)\n",
    "    rule, letter, pw = m.group(1), m.group(2), m.group(3)\n",
    "    #print(\"'{}' -> '{}', '{}', '{}'\".format(line.strip(), rule, letter, pw))\n",
    "        \n",
    "    l1, l2 = decode_rule(rule)\n",
    "    #print mini, maxi\n",
    "\n",
    "    #print element.count(letter)\n",
    "    a = pw[l1-1] != letter\n",
    "    b = pw[l2-1] != letter\n",
    "    #print(a)\n",
    "    #print(b)\n",
    "    \n",
    "    if xor(a, b):\n",
    "    #if (a and not b) or (not a and b):\n",
    "        valid = valid + 1\n",
    "        #print(element, rule, letter)\n",
    "        #print(\"VALID: {}\\nletter[{}]:{} is {}\".format(pw, l1, pw[l1-1], letter))\n",
    "        #print(\"letter[{}]:{} is {}\".format(l2, pw[l2-1], letter))\n",
    "    else:\n",
    "        pass\n",
    "        #print(element, rule, letter)\n",
    "        #print(\"INVALID: {}\\nletter[{}]:{} is {}\".format(pw, l1, pw[l1-1], letter))\n",
    "        #print(\"letter[{}]:{} is {}\".format(l2, pw[l2-1], letter))\n",
    "        \n",
    "        \n",
    "print(\"Valid PW: {}\".format(valid))\n",
    "print(\"All: {}\".format(i))"
   ]
  },
  {
   "cell_type": "code",
   "execution_count": null,
   "metadata": {},
   "outputs": [],
   "source": []
  }
 ],
 "metadata": {
  "kernelspec": {
   "display_name": "Python 2",
   "language": "python",
   "name": "python2"
  },
  "language_info": {
   "codemirror_mode": {
    "name": "ipython",
    "version": 2
   },
   "file_extension": ".py",
   "mimetype": "text/x-python",
   "name": "python",
   "nbconvert_exporter": "python",
   "pygments_lexer": "ipython2",
   "version": "2.7.17"
  }
 },
 "nbformat": 4,
 "nbformat_minor": 2
}
